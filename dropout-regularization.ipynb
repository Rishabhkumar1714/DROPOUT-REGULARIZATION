{
 "cells": [
  {
   "cell_type": "code",
   "execution_count": 1,
   "id": "1ca7358f",
   "metadata": {
    "_cell_guid": "b1076dfc-b9ad-4769-8c92-a6c4dae69d19",
    "_uuid": "8f2839f25d086af736a60e9eeb907d3b93b6e0e5",
    "execution": {
     "iopub.execute_input": "2021-12-19T15:47:11.027721Z",
     "iopub.status.busy": "2021-12-19T15:47:11.024635Z",
     "iopub.status.idle": "2021-12-19T15:47:12.117455Z",
     "shell.execute_reply": "2021-12-19T15:47:12.117976Z",
     "shell.execute_reply.started": "2021-12-19T14:46:07.853434Z"
    },
    "papermill": {
     "duration": 1.126472,
     "end_time": "2021-12-19T15:47:12.118388",
     "exception": false,
     "start_time": "2021-12-19T15:47:10.991916",
     "status": "completed"
    },
    "tags": []
   },
   "outputs": [],
   "source": [
    "import numpy as np\n",
    "import pandas as pd\n",
    "import matplotlib.pyplot as plt\n",
    "import seaborn as sns"
   ]
  },
  {
   "cell_type": "code",
   "execution_count": 2,
   "id": "5d664ea2",
   "metadata": {
    "execution": {
     "iopub.execute_input": "2021-12-19T15:47:12.171459Z",
     "iopub.status.busy": "2021-12-19T15:47:12.169642Z",
     "iopub.status.idle": "2021-12-19T15:47:12.173467Z",
     "shell.execute_reply": "2021-12-19T15:47:12.173918Z",
     "shell.execute_reply.started": "2021-12-19T14:46:08.997429Z"
    },
    "papermill": {
     "duration": 0.030783,
     "end_time": "2021-12-19T15:47:12.174116",
     "exception": false,
     "start_time": "2021-12-19T15:47:12.143333",
     "status": "completed"
    },
    "tags": []
   },
   "outputs": [],
   "source": [
    "import warnings\n",
    "warnings.filterwarnings('ignore')"
   ]
  },
  {
   "cell_type": "code",
   "execution_count": 3,
   "id": "91d45922",
   "metadata": {
    "execution": {
     "iopub.execute_input": "2021-12-19T15:47:12.235442Z",
     "iopub.status.busy": "2021-12-19T15:47:12.222988Z",
     "iopub.status.idle": "2021-12-19T15:47:12.618955Z",
     "shell.execute_reply": "2021-12-19T15:47:12.619477Z",
     "shell.execute_reply.started": "2021-12-19T14:46:09.005572Z"
    },
    "papermill": {
     "duration": 0.422805,
     "end_time": "2021-12-19T15:47:12.619667",
     "exception": false,
     "start_time": "2021-12-19T15:47:12.196862",
     "status": "completed"
    },
    "tags": []
   },
   "outputs": [],
   "source": [
    "df=pd.read_csv(\"https://raw.githubusercontent.com/codebasics/deep-learning-keras-tf-tutorial/master/13_dropout_layer/sonar_dataset.csv\",header=None)"
   ]
  },
  {
   "cell_type": "code",
   "execution_count": 4,
   "id": "3815c863",
   "metadata": {
    "execution": {
     "iopub.execute_input": "2021-12-19T15:47:12.675730Z",
     "iopub.status.busy": "2021-12-19T15:47:12.674723Z",
     "iopub.status.idle": "2021-12-19T15:47:12.708490Z",
     "shell.execute_reply": "2021-12-19T15:47:12.708971Z",
     "shell.execute_reply.started": "2021-12-19T14:46:09.623626Z"
    },
    "papermill": {
     "duration": 0.067541,
     "end_time": "2021-12-19T15:47:12.709146",
     "exception": false,
     "start_time": "2021-12-19T15:47:12.641605",
     "status": "completed"
    },
    "tags": []
   },
   "outputs": [
    {
     "data": {
      "text/html": [
       "<div>\n",
       "<style scoped>\n",
       "    .dataframe tbody tr th:only-of-type {\n",
       "        vertical-align: middle;\n",
       "    }\n",
       "\n",
       "    .dataframe tbody tr th {\n",
       "        vertical-align: top;\n",
       "    }\n",
       "\n",
       "    .dataframe thead th {\n",
       "        text-align: right;\n",
       "    }\n",
       "</style>\n",
       "<table border=\"1\" class=\"dataframe\">\n",
       "  <thead>\n",
       "    <tr style=\"text-align: right;\">\n",
       "      <th></th>\n",
       "      <th>0</th>\n",
       "      <th>1</th>\n",
       "      <th>2</th>\n",
       "      <th>3</th>\n",
       "      <th>4</th>\n",
       "      <th>5</th>\n",
       "      <th>6</th>\n",
       "      <th>7</th>\n",
       "      <th>8</th>\n",
       "      <th>9</th>\n",
       "      <th>...</th>\n",
       "      <th>51</th>\n",
       "      <th>52</th>\n",
       "      <th>53</th>\n",
       "      <th>54</th>\n",
       "      <th>55</th>\n",
       "      <th>56</th>\n",
       "      <th>57</th>\n",
       "      <th>58</th>\n",
       "      <th>59</th>\n",
       "      <th>60</th>\n",
       "    </tr>\n",
       "  </thead>\n",
       "  <tbody>\n",
       "    <tr>\n",
       "      <th>148</th>\n",
       "      <td>0.0712</td>\n",
       "      <td>0.0901</td>\n",
       "      <td>0.1276</td>\n",
       "      <td>0.1497</td>\n",
       "      <td>0.1284</td>\n",
       "      <td>0.1165</td>\n",
       "      <td>0.1285</td>\n",
       "      <td>0.1684</td>\n",
       "      <td>0.1830</td>\n",
       "      <td>0.2127</td>\n",
       "      <td>...</td>\n",
       "      <td>0.0154</td>\n",
       "      <td>0.0156</td>\n",
       "      <td>0.0054</td>\n",
       "      <td>0.0030</td>\n",
       "      <td>0.0048</td>\n",
       "      <td>0.0087</td>\n",
       "      <td>0.0101</td>\n",
       "      <td>0.0095</td>\n",
       "      <td>0.0068</td>\n",
       "      <td>M</td>\n",
       "    </tr>\n",
       "    <tr>\n",
       "      <th>89</th>\n",
       "      <td>0.0235</td>\n",
       "      <td>0.0291</td>\n",
       "      <td>0.0749</td>\n",
       "      <td>0.0519</td>\n",
       "      <td>0.0227</td>\n",
       "      <td>0.0834</td>\n",
       "      <td>0.0677</td>\n",
       "      <td>0.2002</td>\n",
       "      <td>0.2876</td>\n",
       "      <td>0.3674</td>\n",
       "      <td>...</td>\n",
       "      <td>0.0083</td>\n",
       "      <td>0.0037</td>\n",
       "      <td>0.0095</td>\n",
       "      <td>0.0105</td>\n",
       "      <td>0.0030</td>\n",
       "      <td>0.0132</td>\n",
       "      <td>0.0068</td>\n",
       "      <td>0.0108</td>\n",
       "      <td>0.0090</td>\n",
       "      <td>R</td>\n",
       "    </tr>\n",
       "    <tr>\n",
       "      <th>24</th>\n",
       "      <td>0.0293</td>\n",
       "      <td>0.0644</td>\n",
       "      <td>0.0390</td>\n",
       "      <td>0.0173</td>\n",
       "      <td>0.0476</td>\n",
       "      <td>0.0816</td>\n",
       "      <td>0.0993</td>\n",
       "      <td>0.0315</td>\n",
       "      <td>0.0736</td>\n",
       "      <td>0.0860</td>\n",
       "      <td>...</td>\n",
       "      <td>0.0035</td>\n",
       "      <td>0.0052</td>\n",
       "      <td>0.0083</td>\n",
       "      <td>0.0078</td>\n",
       "      <td>0.0075</td>\n",
       "      <td>0.0105</td>\n",
       "      <td>0.0160</td>\n",
       "      <td>0.0095</td>\n",
       "      <td>0.0011</td>\n",
       "      <td>R</td>\n",
       "    </tr>\n",
       "    <tr>\n",
       "      <th>108</th>\n",
       "      <td>0.0599</td>\n",
       "      <td>0.0474</td>\n",
       "      <td>0.0498</td>\n",
       "      <td>0.0387</td>\n",
       "      <td>0.1026</td>\n",
       "      <td>0.0773</td>\n",
       "      <td>0.0853</td>\n",
       "      <td>0.0447</td>\n",
       "      <td>0.1094</td>\n",
       "      <td>0.0351</td>\n",
       "      <td>...</td>\n",
       "      <td>0.0013</td>\n",
       "      <td>0.0005</td>\n",
       "      <td>0.0227</td>\n",
       "      <td>0.0209</td>\n",
       "      <td>0.0081</td>\n",
       "      <td>0.0117</td>\n",
       "      <td>0.0114</td>\n",
       "      <td>0.0112</td>\n",
       "      <td>0.0100</td>\n",
       "      <td>M</td>\n",
       "    </tr>\n",
       "    <tr>\n",
       "      <th>96</th>\n",
       "      <td>0.0181</td>\n",
       "      <td>0.0146</td>\n",
       "      <td>0.0026</td>\n",
       "      <td>0.0141</td>\n",
       "      <td>0.0421</td>\n",
       "      <td>0.0473</td>\n",
       "      <td>0.0361</td>\n",
       "      <td>0.0741</td>\n",
       "      <td>0.1398</td>\n",
       "      <td>0.1045</td>\n",
       "      <td>...</td>\n",
       "      <td>0.0223</td>\n",
       "      <td>0.0255</td>\n",
       "      <td>0.0145</td>\n",
       "      <td>0.0233</td>\n",
       "      <td>0.0041</td>\n",
       "      <td>0.0018</td>\n",
       "      <td>0.0048</td>\n",
       "      <td>0.0089</td>\n",
       "      <td>0.0085</td>\n",
       "      <td>R</td>\n",
       "    </tr>\n",
       "  </tbody>\n",
       "</table>\n",
       "<p>5 rows × 61 columns</p>\n",
       "</div>"
      ],
      "text/plain": [
       "         0       1       2       3       4       5       6       7       8   \\\n",
       "148  0.0712  0.0901  0.1276  0.1497  0.1284  0.1165  0.1285  0.1684  0.1830   \n",
       "89   0.0235  0.0291  0.0749  0.0519  0.0227  0.0834  0.0677  0.2002  0.2876   \n",
       "24   0.0293  0.0644  0.0390  0.0173  0.0476  0.0816  0.0993  0.0315  0.0736   \n",
       "108  0.0599  0.0474  0.0498  0.0387  0.1026  0.0773  0.0853  0.0447  0.1094   \n",
       "96   0.0181  0.0146  0.0026  0.0141  0.0421  0.0473  0.0361  0.0741  0.1398   \n",
       "\n",
       "         9   ...      51      52      53      54      55      56      57  \\\n",
       "148  0.2127  ...  0.0154  0.0156  0.0054  0.0030  0.0048  0.0087  0.0101   \n",
       "89   0.3674  ...  0.0083  0.0037  0.0095  0.0105  0.0030  0.0132  0.0068   \n",
       "24   0.0860  ...  0.0035  0.0052  0.0083  0.0078  0.0075  0.0105  0.0160   \n",
       "108  0.0351  ...  0.0013  0.0005  0.0227  0.0209  0.0081  0.0117  0.0114   \n",
       "96   0.1045  ...  0.0223  0.0255  0.0145  0.0233  0.0041  0.0018  0.0048   \n",
       "\n",
       "         58      59  60  \n",
       "148  0.0095  0.0068   M  \n",
       "89   0.0108  0.0090   R  \n",
       "24   0.0095  0.0011   R  \n",
       "108  0.0112  0.0100   M  \n",
       "96   0.0089  0.0085   R  \n",
       "\n",
       "[5 rows x 61 columns]"
      ]
     },
     "execution_count": 4,
     "metadata": {},
     "output_type": "execute_result"
    }
   ],
   "source": [
    "df.sample(5)"
   ]
  },
  {
   "cell_type": "code",
   "execution_count": 5,
   "id": "6f8eaaed",
   "metadata": {
    "execution": {
     "iopub.execute_input": "2021-12-19T15:47:12.759172Z",
     "iopub.status.busy": "2021-12-19T15:47:12.758215Z",
     "iopub.status.idle": "2021-12-19T15:47:12.763505Z",
     "shell.execute_reply": "2021-12-19T15:47:12.763996Z",
     "shell.execute_reply.started": "2021-12-19T14:46:09.672569Z"
    },
    "papermill": {
     "duration": 0.032191,
     "end_time": "2021-12-19T15:47:12.764157",
     "exception": false,
     "start_time": "2021-12-19T15:47:12.731966",
     "status": "completed"
    },
    "tags": []
   },
   "outputs": [
    {
     "data": {
      "text/plain": [
       "(208, 61)"
      ]
     },
     "execution_count": 5,
     "metadata": {},
     "output_type": "execute_result"
    }
   ],
   "source": [
    "df.shape"
   ]
  },
  {
   "cell_type": "code",
   "execution_count": 6,
   "id": "57eccee9",
   "metadata": {
    "execution": {
     "iopub.execute_input": "2021-12-19T15:47:12.813701Z",
     "iopub.status.busy": "2021-12-19T15:47:12.812711Z",
     "iopub.status.idle": "2021-12-19T15:47:12.821608Z",
     "shell.execute_reply": "2021-12-19T15:47:12.822341Z",
     "shell.execute_reply.started": "2021-12-19T14:46:09.681230Z"
    },
    "papermill": {
     "duration": 0.035757,
     "end_time": "2021-12-19T15:47:12.822590",
     "exception": false,
     "start_time": "2021-12-19T15:47:12.786833",
     "status": "completed"
    },
    "tags": []
   },
   "outputs": [
    {
     "data": {
      "text/plain": [
       "0     0\n",
       "1     0\n",
       "2     0\n",
       "3     0\n",
       "4     0\n",
       "     ..\n",
       "56    0\n",
       "57    0\n",
       "58    0\n",
       "59    0\n",
       "60    0\n",
       "Length: 61, dtype: int64"
      ]
     },
     "execution_count": 6,
     "metadata": {},
     "output_type": "execute_result"
    }
   ],
   "source": [
    "df.isna().sum()"
   ]
  },
  {
   "cell_type": "code",
   "execution_count": 7,
   "id": "a6303c8e",
   "metadata": {
    "execution": {
     "iopub.execute_input": "2021-12-19T15:47:12.872842Z",
     "iopub.status.busy": "2021-12-19T15:47:12.872199Z",
     "iopub.status.idle": "2021-12-19T15:47:12.877714Z",
     "shell.execute_reply": "2021-12-19T15:47:12.878316Z",
     "shell.execute_reply.started": "2021-12-19T14:48:44.877296Z"
    },
    "papermill": {
     "duration": 0.032061,
     "end_time": "2021-12-19T15:47:12.878480",
     "exception": false,
     "start_time": "2021-12-19T15:47:12.846419",
     "status": "completed"
    },
    "tags": []
   },
   "outputs": [
    {
     "data": {
      "text/plain": [
       "Int64Index([ 0,  1,  2,  3,  4,  5,  6,  7,  8,  9, 10, 11, 12, 13, 14, 15, 16,\n",
       "            17, 18, 19, 20, 21, 22, 23, 24, 25, 26, 27, 28, 29, 30, 31, 32, 33,\n",
       "            34, 35, 36, 37, 38, 39, 40, 41, 42, 43, 44, 45, 46, 47, 48, 49, 50,\n",
       "            51, 52, 53, 54, 55, 56, 57, 58, 59, 60],\n",
       "           dtype='int64')"
      ]
     },
     "execution_count": 7,
     "metadata": {},
     "output_type": "execute_result"
    }
   ],
   "source": [
    "df.columns"
   ]
  },
  {
   "cell_type": "code",
   "execution_count": 8,
   "id": "86a90356",
   "metadata": {
    "execution": {
     "iopub.execute_input": "2021-12-19T15:47:12.928758Z",
     "iopub.status.busy": "2021-12-19T15:47:12.928117Z",
     "iopub.status.idle": "2021-12-19T15:47:12.937904Z",
     "shell.execute_reply": "2021-12-19T15:47:12.938516Z",
     "shell.execute_reply.started": "2021-12-19T14:49:47.909086Z"
    },
    "papermill": {
     "duration": 0.036833,
     "end_time": "2021-12-19T15:47:12.938689",
     "exception": false,
     "start_time": "2021-12-19T15:47:12.901856",
     "status": "completed"
    },
    "tags": []
   },
   "outputs": [
    {
     "data": {
      "text/plain": [
       "M    111\n",
       "R     97\n",
       "Name: 60, dtype: int64"
      ]
     },
     "execution_count": 8,
     "metadata": {},
     "output_type": "execute_result"
    }
   ],
   "source": [
    "df[60].value_counts()"
   ]
  },
  {
   "cell_type": "code",
   "execution_count": 9,
   "id": "64968e64",
   "metadata": {
    "execution": {
     "iopub.execute_input": "2021-12-19T15:47:12.989908Z",
     "iopub.status.busy": "2021-12-19T15:47:12.989277Z",
     "iopub.status.idle": "2021-12-19T15:47:12.997130Z",
     "shell.execute_reply": "2021-12-19T15:47:12.997731Z",
     "shell.execute_reply.started": "2021-12-19T14:51:40.678042Z"
    },
    "papermill": {
     "duration": 0.035542,
     "end_time": "2021-12-19T15:47:12.997895",
     "exception": false,
     "start_time": "2021-12-19T15:47:12.962353",
     "status": "completed"
    },
    "tags": []
   },
   "outputs": [
    {
     "data": {
      "text/plain": [
       "0    R\n",
       "1    R\n",
       "2    R\n",
       "3    R\n",
       "4    R\n",
       "Name: 60, dtype: object"
      ]
     },
     "execution_count": 9,
     "metadata": {},
     "output_type": "execute_result"
    }
   ],
   "source": [
    "X=df.drop(60,axis='columns')\n",
    "y=df[60]\n",
    "y.head()"
   ]
  },
  {
   "cell_type": "code",
   "execution_count": 10,
   "id": "f56e3034",
   "metadata": {
    "execution": {
     "iopub.execute_input": "2021-12-19T15:47:13.049429Z",
     "iopub.status.busy": "2021-12-19T15:47:13.048818Z",
     "iopub.status.idle": "2021-12-19T15:47:13.084527Z",
     "shell.execute_reply": "2021-12-19T15:47:13.085167Z",
     "shell.execute_reply.started": "2021-12-19T14:51:59.813328Z"
    },
    "papermill": {
     "duration": 0.063572,
     "end_time": "2021-12-19T15:47:13.085366",
     "exception": false,
     "start_time": "2021-12-19T15:47:13.021794",
     "status": "completed"
    },
    "tags": []
   },
   "outputs": [
    {
     "data": {
      "text/html": [
       "<div>\n",
       "<style scoped>\n",
       "    .dataframe tbody tr th:only-of-type {\n",
       "        vertical-align: middle;\n",
       "    }\n",
       "\n",
       "    .dataframe tbody tr th {\n",
       "        vertical-align: top;\n",
       "    }\n",
       "\n",
       "    .dataframe thead th {\n",
       "        text-align: right;\n",
       "    }\n",
       "</style>\n",
       "<table border=\"1\" class=\"dataframe\">\n",
       "  <thead>\n",
       "    <tr style=\"text-align: right;\">\n",
       "      <th></th>\n",
       "      <th>0</th>\n",
       "      <th>1</th>\n",
       "      <th>2</th>\n",
       "      <th>3</th>\n",
       "      <th>4</th>\n",
       "      <th>5</th>\n",
       "      <th>6</th>\n",
       "      <th>7</th>\n",
       "      <th>8</th>\n",
       "      <th>9</th>\n",
       "      <th>...</th>\n",
       "      <th>50</th>\n",
       "      <th>51</th>\n",
       "      <th>52</th>\n",
       "      <th>53</th>\n",
       "      <th>54</th>\n",
       "      <th>55</th>\n",
       "      <th>56</th>\n",
       "      <th>57</th>\n",
       "      <th>58</th>\n",
       "      <th>59</th>\n",
       "    </tr>\n",
       "  </thead>\n",
       "  <tbody>\n",
       "    <tr>\n",
       "      <th>0</th>\n",
       "      <td>0.0200</td>\n",
       "      <td>0.0371</td>\n",
       "      <td>0.0428</td>\n",
       "      <td>0.0207</td>\n",
       "      <td>0.0954</td>\n",
       "      <td>0.0986</td>\n",
       "      <td>0.1539</td>\n",
       "      <td>0.1601</td>\n",
       "      <td>0.3109</td>\n",
       "      <td>0.2111</td>\n",
       "      <td>...</td>\n",
       "      <td>0.0232</td>\n",
       "      <td>0.0027</td>\n",
       "      <td>0.0065</td>\n",
       "      <td>0.0159</td>\n",
       "      <td>0.0072</td>\n",
       "      <td>0.0167</td>\n",
       "      <td>0.0180</td>\n",
       "      <td>0.0084</td>\n",
       "      <td>0.0090</td>\n",
       "      <td>0.0032</td>\n",
       "    </tr>\n",
       "    <tr>\n",
       "      <th>1</th>\n",
       "      <td>0.0453</td>\n",
       "      <td>0.0523</td>\n",
       "      <td>0.0843</td>\n",
       "      <td>0.0689</td>\n",
       "      <td>0.1183</td>\n",
       "      <td>0.2583</td>\n",
       "      <td>0.2156</td>\n",
       "      <td>0.3481</td>\n",
       "      <td>0.3337</td>\n",
       "      <td>0.2872</td>\n",
       "      <td>...</td>\n",
       "      <td>0.0125</td>\n",
       "      <td>0.0084</td>\n",
       "      <td>0.0089</td>\n",
       "      <td>0.0048</td>\n",
       "      <td>0.0094</td>\n",
       "      <td>0.0191</td>\n",
       "      <td>0.0140</td>\n",
       "      <td>0.0049</td>\n",
       "      <td>0.0052</td>\n",
       "      <td>0.0044</td>\n",
       "    </tr>\n",
       "    <tr>\n",
       "      <th>2</th>\n",
       "      <td>0.0262</td>\n",
       "      <td>0.0582</td>\n",
       "      <td>0.1099</td>\n",
       "      <td>0.1083</td>\n",
       "      <td>0.0974</td>\n",
       "      <td>0.2280</td>\n",
       "      <td>0.2431</td>\n",
       "      <td>0.3771</td>\n",
       "      <td>0.5598</td>\n",
       "      <td>0.6194</td>\n",
       "      <td>...</td>\n",
       "      <td>0.0033</td>\n",
       "      <td>0.0232</td>\n",
       "      <td>0.0166</td>\n",
       "      <td>0.0095</td>\n",
       "      <td>0.0180</td>\n",
       "      <td>0.0244</td>\n",
       "      <td>0.0316</td>\n",
       "      <td>0.0164</td>\n",
       "      <td>0.0095</td>\n",
       "      <td>0.0078</td>\n",
       "    </tr>\n",
       "    <tr>\n",
       "      <th>3</th>\n",
       "      <td>0.0100</td>\n",
       "      <td>0.0171</td>\n",
       "      <td>0.0623</td>\n",
       "      <td>0.0205</td>\n",
       "      <td>0.0205</td>\n",
       "      <td>0.0368</td>\n",
       "      <td>0.1098</td>\n",
       "      <td>0.1276</td>\n",
       "      <td>0.0598</td>\n",
       "      <td>0.1264</td>\n",
       "      <td>...</td>\n",
       "      <td>0.0241</td>\n",
       "      <td>0.0121</td>\n",
       "      <td>0.0036</td>\n",
       "      <td>0.0150</td>\n",
       "      <td>0.0085</td>\n",
       "      <td>0.0073</td>\n",
       "      <td>0.0050</td>\n",
       "      <td>0.0044</td>\n",
       "      <td>0.0040</td>\n",
       "      <td>0.0117</td>\n",
       "    </tr>\n",
       "    <tr>\n",
       "      <th>4</th>\n",
       "      <td>0.0762</td>\n",
       "      <td>0.0666</td>\n",
       "      <td>0.0481</td>\n",
       "      <td>0.0394</td>\n",
       "      <td>0.0590</td>\n",
       "      <td>0.0649</td>\n",
       "      <td>0.1209</td>\n",
       "      <td>0.2467</td>\n",
       "      <td>0.3564</td>\n",
       "      <td>0.4459</td>\n",
       "      <td>...</td>\n",
       "      <td>0.0156</td>\n",
       "      <td>0.0031</td>\n",
       "      <td>0.0054</td>\n",
       "      <td>0.0105</td>\n",
       "      <td>0.0110</td>\n",
       "      <td>0.0015</td>\n",
       "      <td>0.0072</td>\n",
       "      <td>0.0048</td>\n",
       "      <td>0.0107</td>\n",
       "      <td>0.0094</td>\n",
       "    </tr>\n",
       "    <tr>\n",
       "      <th>...</th>\n",
       "      <td>...</td>\n",
       "      <td>...</td>\n",
       "      <td>...</td>\n",
       "      <td>...</td>\n",
       "      <td>...</td>\n",
       "      <td>...</td>\n",
       "      <td>...</td>\n",
       "      <td>...</td>\n",
       "      <td>...</td>\n",
       "      <td>...</td>\n",
       "      <td>...</td>\n",
       "      <td>...</td>\n",
       "      <td>...</td>\n",
       "      <td>...</td>\n",
       "      <td>...</td>\n",
       "      <td>...</td>\n",
       "      <td>...</td>\n",
       "      <td>...</td>\n",
       "      <td>...</td>\n",
       "      <td>...</td>\n",
       "      <td>...</td>\n",
       "    </tr>\n",
       "    <tr>\n",
       "      <th>203</th>\n",
       "      <td>0.0187</td>\n",
       "      <td>0.0346</td>\n",
       "      <td>0.0168</td>\n",
       "      <td>0.0177</td>\n",
       "      <td>0.0393</td>\n",
       "      <td>0.1630</td>\n",
       "      <td>0.2028</td>\n",
       "      <td>0.1694</td>\n",
       "      <td>0.2328</td>\n",
       "      <td>0.2684</td>\n",
       "      <td>...</td>\n",
       "      <td>0.0203</td>\n",
       "      <td>0.0116</td>\n",
       "      <td>0.0098</td>\n",
       "      <td>0.0199</td>\n",
       "      <td>0.0033</td>\n",
       "      <td>0.0101</td>\n",
       "      <td>0.0065</td>\n",
       "      <td>0.0115</td>\n",
       "      <td>0.0193</td>\n",
       "      <td>0.0157</td>\n",
       "    </tr>\n",
       "    <tr>\n",
       "      <th>204</th>\n",
       "      <td>0.0323</td>\n",
       "      <td>0.0101</td>\n",
       "      <td>0.0298</td>\n",
       "      <td>0.0564</td>\n",
       "      <td>0.0760</td>\n",
       "      <td>0.0958</td>\n",
       "      <td>0.0990</td>\n",
       "      <td>0.1018</td>\n",
       "      <td>0.1030</td>\n",
       "      <td>0.2154</td>\n",
       "      <td>...</td>\n",
       "      <td>0.0051</td>\n",
       "      <td>0.0061</td>\n",
       "      <td>0.0093</td>\n",
       "      <td>0.0135</td>\n",
       "      <td>0.0063</td>\n",
       "      <td>0.0063</td>\n",
       "      <td>0.0034</td>\n",
       "      <td>0.0032</td>\n",
       "      <td>0.0062</td>\n",
       "      <td>0.0067</td>\n",
       "    </tr>\n",
       "    <tr>\n",
       "      <th>205</th>\n",
       "      <td>0.0522</td>\n",
       "      <td>0.0437</td>\n",
       "      <td>0.0180</td>\n",
       "      <td>0.0292</td>\n",
       "      <td>0.0351</td>\n",
       "      <td>0.1171</td>\n",
       "      <td>0.1257</td>\n",
       "      <td>0.1178</td>\n",
       "      <td>0.1258</td>\n",
       "      <td>0.2529</td>\n",
       "      <td>...</td>\n",
       "      <td>0.0155</td>\n",
       "      <td>0.0160</td>\n",
       "      <td>0.0029</td>\n",
       "      <td>0.0051</td>\n",
       "      <td>0.0062</td>\n",
       "      <td>0.0089</td>\n",
       "      <td>0.0140</td>\n",
       "      <td>0.0138</td>\n",
       "      <td>0.0077</td>\n",
       "      <td>0.0031</td>\n",
       "    </tr>\n",
       "    <tr>\n",
       "      <th>206</th>\n",
       "      <td>0.0303</td>\n",
       "      <td>0.0353</td>\n",
       "      <td>0.0490</td>\n",
       "      <td>0.0608</td>\n",
       "      <td>0.0167</td>\n",
       "      <td>0.1354</td>\n",
       "      <td>0.1465</td>\n",
       "      <td>0.1123</td>\n",
       "      <td>0.1945</td>\n",
       "      <td>0.2354</td>\n",
       "      <td>...</td>\n",
       "      <td>0.0042</td>\n",
       "      <td>0.0086</td>\n",
       "      <td>0.0046</td>\n",
       "      <td>0.0126</td>\n",
       "      <td>0.0036</td>\n",
       "      <td>0.0035</td>\n",
       "      <td>0.0034</td>\n",
       "      <td>0.0079</td>\n",
       "      <td>0.0036</td>\n",
       "      <td>0.0048</td>\n",
       "    </tr>\n",
       "    <tr>\n",
       "      <th>207</th>\n",
       "      <td>0.0260</td>\n",
       "      <td>0.0363</td>\n",
       "      <td>0.0136</td>\n",
       "      <td>0.0272</td>\n",
       "      <td>0.0214</td>\n",
       "      <td>0.0338</td>\n",
       "      <td>0.0655</td>\n",
       "      <td>0.1400</td>\n",
       "      <td>0.1843</td>\n",
       "      <td>0.2354</td>\n",
       "      <td>...</td>\n",
       "      <td>0.0181</td>\n",
       "      <td>0.0146</td>\n",
       "      <td>0.0129</td>\n",
       "      <td>0.0047</td>\n",
       "      <td>0.0039</td>\n",
       "      <td>0.0061</td>\n",
       "      <td>0.0040</td>\n",
       "      <td>0.0036</td>\n",
       "      <td>0.0061</td>\n",
       "      <td>0.0115</td>\n",
       "    </tr>\n",
       "  </tbody>\n",
       "</table>\n",
       "<p>208 rows × 60 columns</p>\n",
       "</div>"
      ],
      "text/plain": [
       "         0       1       2       3       4       5       6       7       8   \\\n",
       "0    0.0200  0.0371  0.0428  0.0207  0.0954  0.0986  0.1539  0.1601  0.3109   \n",
       "1    0.0453  0.0523  0.0843  0.0689  0.1183  0.2583  0.2156  0.3481  0.3337   \n",
       "2    0.0262  0.0582  0.1099  0.1083  0.0974  0.2280  0.2431  0.3771  0.5598   \n",
       "3    0.0100  0.0171  0.0623  0.0205  0.0205  0.0368  0.1098  0.1276  0.0598   \n",
       "4    0.0762  0.0666  0.0481  0.0394  0.0590  0.0649  0.1209  0.2467  0.3564   \n",
       "..      ...     ...     ...     ...     ...     ...     ...     ...     ...   \n",
       "203  0.0187  0.0346  0.0168  0.0177  0.0393  0.1630  0.2028  0.1694  0.2328   \n",
       "204  0.0323  0.0101  0.0298  0.0564  0.0760  0.0958  0.0990  0.1018  0.1030   \n",
       "205  0.0522  0.0437  0.0180  0.0292  0.0351  0.1171  0.1257  0.1178  0.1258   \n",
       "206  0.0303  0.0353  0.0490  0.0608  0.0167  0.1354  0.1465  0.1123  0.1945   \n",
       "207  0.0260  0.0363  0.0136  0.0272  0.0214  0.0338  0.0655  0.1400  0.1843   \n",
       "\n",
       "         9   ...      50      51      52      53      54      55      56  \\\n",
       "0    0.2111  ...  0.0232  0.0027  0.0065  0.0159  0.0072  0.0167  0.0180   \n",
       "1    0.2872  ...  0.0125  0.0084  0.0089  0.0048  0.0094  0.0191  0.0140   \n",
       "2    0.6194  ...  0.0033  0.0232  0.0166  0.0095  0.0180  0.0244  0.0316   \n",
       "3    0.1264  ...  0.0241  0.0121  0.0036  0.0150  0.0085  0.0073  0.0050   \n",
       "4    0.4459  ...  0.0156  0.0031  0.0054  0.0105  0.0110  0.0015  0.0072   \n",
       "..      ...  ...     ...     ...     ...     ...     ...     ...     ...   \n",
       "203  0.2684  ...  0.0203  0.0116  0.0098  0.0199  0.0033  0.0101  0.0065   \n",
       "204  0.2154  ...  0.0051  0.0061  0.0093  0.0135  0.0063  0.0063  0.0034   \n",
       "205  0.2529  ...  0.0155  0.0160  0.0029  0.0051  0.0062  0.0089  0.0140   \n",
       "206  0.2354  ...  0.0042  0.0086  0.0046  0.0126  0.0036  0.0035  0.0034   \n",
       "207  0.2354  ...  0.0181  0.0146  0.0129  0.0047  0.0039  0.0061  0.0040   \n",
       "\n",
       "         57      58      59  \n",
       "0    0.0084  0.0090  0.0032  \n",
       "1    0.0049  0.0052  0.0044  \n",
       "2    0.0164  0.0095  0.0078  \n",
       "3    0.0044  0.0040  0.0117  \n",
       "4    0.0048  0.0107  0.0094  \n",
       "..      ...     ...     ...  \n",
       "203  0.0115  0.0193  0.0157  \n",
       "204  0.0032  0.0062  0.0067  \n",
       "205  0.0138  0.0077  0.0031  \n",
       "206  0.0079  0.0036  0.0048  \n",
       "207  0.0036  0.0061  0.0115  \n",
       "\n",
       "[208 rows x 60 columns]"
      ]
     },
     "execution_count": 10,
     "metadata": {},
     "output_type": "execute_result"
    }
   ],
   "source": [
    "X"
   ]
  },
  {
   "cell_type": "code",
   "execution_count": 11,
   "id": "719f115a",
   "metadata": {
    "execution": {
     "iopub.execute_input": "2021-12-19T15:47:13.139010Z",
     "iopub.status.busy": "2021-12-19T15:47:13.138370Z",
     "iopub.status.idle": "2021-12-19T15:47:13.145141Z",
     "shell.execute_reply": "2021-12-19T15:47:13.145624Z",
     "shell.execute_reply.started": "2021-12-19T14:52:26.333597Z"
    },
    "papermill": {
     "duration": 0.035462,
     "end_time": "2021-12-19T15:47:13.145781",
     "exception": false,
     "start_time": "2021-12-19T15:47:13.110319",
     "status": "completed"
    },
    "tags": []
   },
   "outputs": [
    {
     "data": {
      "text/plain": [
       "0      R\n",
       "1      R\n",
       "2      R\n",
       "3      R\n",
       "4      R\n",
       "      ..\n",
       "203    M\n",
       "204    M\n",
       "205    M\n",
       "206    M\n",
       "207    M\n",
       "Name: 60, Length: 208, dtype: object"
      ]
     },
     "execution_count": 11,
     "metadata": {},
     "output_type": "execute_result"
    }
   ],
   "source": [
    "y"
   ]
  },
  {
   "cell_type": "code",
   "execution_count": 12,
   "id": "e8ac66f7",
   "metadata": {
    "execution": {
     "iopub.execute_input": "2021-12-19T15:47:13.206830Z",
     "iopub.status.busy": "2021-12-19T15:47:13.206048Z",
     "iopub.status.idle": "2021-12-19T15:47:13.214794Z",
     "shell.execute_reply": "2021-12-19T15:47:13.215354Z",
     "shell.execute_reply.started": "2021-12-19T15:02:09.748427Z"
    },
    "papermill": {
     "duration": 0.044515,
     "end_time": "2021-12-19T15:47:13.215547",
     "exception": false,
     "start_time": "2021-12-19T15:47:13.171032",
     "status": "completed"
    },
    "tags": []
   },
   "outputs": [
    {
     "data": {
      "text/html": [
       "<div>\n",
       "<style scoped>\n",
       "    .dataframe tbody tr th:only-of-type {\n",
       "        vertical-align: middle;\n",
       "    }\n",
       "\n",
       "    .dataframe tbody tr th {\n",
       "        vertical-align: top;\n",
       "    }\n",
       "\n",
       "    .dataframe thead th {\n",
       "        text-align: right;\n",
       "    }\n",
       "</style>\n",
       "<table border=\"1\" class=\"dataframe\">\n",
       "  <thead>\n",
       "    <tr style=\"text-align: right;\">\n",
       "      <th></th>\n",
       "      <th>R</th>\n",
       "    </tr>\n",
       "  </thead>\n",
       "  <tbody>\n",
       "    <tr>\n",
       "      <th>76</th>\n",
       "      <td>1</td>\n",
       "    </tr>\n",
       "    <tr>\n",
       "      <th>27</th>\n",
       "      <td>1</td>\n",
       "    </tr>\n",
       "    <tr>\n",
       "      <th>38</th>\n",
       "      <td>1</td>\n",
       "    </tr>\n",
       "    <tr>\n",
       "      <th>120</th>\n",
       "      <td>0</td>\n",
       "    </tr>\n",
       "    <tr>\n",
       "      <th>95</th>\n",
       "      <td>1</td>\n",
       "    </tr>\n",
       "  </tbody>\n",
       "</table>\n",
       "</div>"
      ],
      "text/plain": [
       "     R\n",
       "76   1\n",
       "27   1\n",
       "38   1\n",
       "120  0\n",
       "95   1"
      ]
     },
     "execution_count": 12,
     "metadata": {},
     "output_type": "execute_result"
    }
   ],
   "source": [
    "y=pd.get_dummies(y,drop_first=True)\n",
    "y.sample(5)"
   ]
  },
  {
   "cell_type": "code",
   "execution_count": 13,
   "id": "7db9fe22",
   "metadata": {
    "execution": {
     "iopub.execute_input": "2021-12-19T15:47:13.271309Z",
     "iopub.status.busy": "2021-12-19T15:47:13.270657Z",
     "iopub.status.idle": "2021-12-19T15:47:13.277335Z",
     "shell.execute_reply": "2021-12-19T15:47:13.277915Z",
     "shell.execute_reply.started": "2021-12-19T15:02:41.656570Z"
    },
    "papermill": {
     "duration": 0.036372,
     "end_time": "2021-12-19T15:47:13.278092",
     "exception": false,
     "start_time": "2021-12-19T15:47:13.241720",
     "status": "completed"
    },
    "tags": []
   },
   "outputs": [
    {
     "data": {
      "text/plain": [
       "<bound method DataFrame.value_counts of      R\n",
       "0    1\n",
       "1    1\n",
       "2    1\n",
       "3    1\n",
       "4    1\n",
       "..  ..\n",
       "203  0\n",
       "204  0\n",
       "205  0\n",
       "206  0\n",
       "207  0\n",
       "\n",
       "[208 rows x 1 columns]>"
      ]
     },
     "execution_count": 13,
     "metadata": {},
     "output_type": "execute_result"
    }
   ],
   "source": [
    "y.value_counts"
   ]
  },
  {
   "cell_type": "code",
   "execution_count": 14,
   "id": "cfb7505e",
   "metadata": {
    "execution": {
     "iopub.execute_input": "2021-12-19T15:47:13.335172Z",
     "iopub.status.busy": "2021-12-19T15:47:13.334544Z",
     "iopub.status.idle": "2021-12-19T15:47:13.343686Z",
     "shell.execute_reply": "2021-12-19T15:47:13.344272Z",
     "shell.execute_reply.started": "2021-12-19T15:07:09.673247Z"
    },
    "papermill": {
     "duration": 0.040117,
     "end_time": "2021-12-19T15:47:13.344472",
     "exception": false,
     "start_time": "2021-12-19T15:47:13.304355",
     "status": "completed"
    },
    "tags": []
   },
   "outputs": [
    {
     "data": {
      "text/plain": [
       "R\n",
       "0    111\n",
       "1     97\n",
       "dtype: int64"
      ]
     },
     "execution_count": 14,
     "metadata": {},
     "output_type": "execute_result"
    }
   ],
   "source": [
    "y.value_counts()"
   ]
  },
  {
   "cell_type": "code",
   "execution_count": 15,
   "id": "29b06b4c",
   "metadata": {
    "execution": {
     "iopub.execute_input": "2021-12-19T15:47:13.403262Z",
     "iopub.status.busy": "2021-12-19T15:47:13.402586Z",
     "iopub.status.idle": "2021-12-19T15:47:13.578839Z",
     "shell.execute_reply": "2021-12-19T15:47:13.579415Z",
     "shell.execute_reply.started": "2021-12-19T15:07:13.731871Z"
    },
    "papermill": {
     "duration": 0.208893,
     "end_time": "2021-12-19T15:47:13.579638",
     "exception": false,
     "start_time": "2021-12-19T15:47:13.370745",
     "status": "completed"
    },
    "tags": []
   },
   "outputs": [],
   "source": [
    "from sklearn.model_selection import train_test_split\n",
    "X_train,X_test,y_train,y_test=train_test_split(X,y,test_size=0.25,random_state=1)"
   ]
  },
  {
   "cell_type": "code",
   "execution_count": 16,
   "id": "c3e45b41",
   "metadata": {
    "execution": {
     "iopub.execute_input": "2021-12-19T15:47:13.637420Z",
     "iopub.status.busy": "2021-12-19T15:47:13.636745Z",
     "iopub.status.idle": "2021-12-19T15:47:13.643128Z",
     "shell.execute_reply": "2021-12-19T15:47:13.642580Z",
     "shell.execute_reply.started": "2021-12-19T15:08:00.149445Z"
    },
    "papermill": {
     "duration": 0.036026,
     "end_time": "2021-12-19T15:47:13.643307",
     "exception": false,
     "start_time": "2021-12-19T15:47:13.607281",
     "status": "completed"
    },
    "tags": []
   },
   "outputs": [
    {
     "data": {
      "text/plain": [
       "((156, 60), (52, 60))"
      ]
     },
     "execution_count": 16,
     "metadata": {},
     "output_type": "execute_result"
    }
   ],
   "source": [
    "X_train.shape,X_test.shape"
   ]
  },
  {
   "cell_type": "code",
   "execution_count": 17,
   "id": "a4349888",
   "metadata": {
    "execution": {
     "iopub.execute_input": "2021-12-19T15:47:13.700367Z",
     "iopub.status.busy": "2021-12-19T15:47:13.699723Z",
     "iopub.status.idle": "2021-12-19T15:47:18.883026Z",
     "shell.execute_reply": "2021-12-19T15:47:18.882327Z",
     "shell.execute_reply.started": "2021-12-19T15:17:53.992165Z"
    },
    "papermill": {
     "duration": 5.212987,
     "end_time": "2021-12-19T15:47:18.883175",
     "exception": false,
     "start_time": "2021-12-19T15:47:13.670188",
     "status": "completed"
    },
    "tags": []
   },
   "outputs": [],
   "source": [
    "import tensorflow as tf\n",
    "from tensorflow import keras"
   ]
  },
  {
   "cell_type": "code",
   "execution_count": 18,
   "id": "e8945a6c",
   "metadata": {
    "execution": {
     "iopub.execute_input": "2021-12-19T15:47:18.944598Z",
     "iopub.status.busy": "2021-12-19T15:47:18.943937Z",
     "iopub.status.idle": "2021-12-19T15:47:26.040866Z",
     "shell.execute_reply": "2021-12-19T15:47:26.039941Z",
     "shell.execute_reply.started": "2021-12-19T15:17:56.210230Z"
    },
    "papermill": {
     "duration": 7.130575,
     "end_time": "2021-12-19T15:47:26.041025",
     "exception": false,
     "start_time": "2021-12-19T15:47:18.910450",
     "status": "completed"
    },
    "tags": []
   },
   "outputs": [
    {
     "name": "stderr",
     "output_type": "stream",
     "text": [
      "\n",
      "User settings:\n",
      "\n",
      "   KMP_AFFINITY=granularity=fine,verbose,compact,1,0\n",
      "   KMP_BLOCKTIME=0\n",
      "   KMP_DUPLICATE_LIB_OK=True\n",
      "   KMP_INIT_AT_FORK=FALSE\n",
      "   KMP_SETTINGS=1\n",
      "   KMP_WARNINGS=0\n",
      "\n",
      "Effective settings:\n",
      "\n",
      "   KMP_ABORT_DELAY=0\n",
      "   KMP_ADAPTIVE_LOCK_PROPS='1,1024'\n",
      "   KMP_ALIGN_ALLOC=64\n",
      "   KMP_ALL_THREADPRIVATE=128\n",
      "   KMP_ATOMIC_MODE=2\n",
      "   KMP_BLOCKTIME=0\n",
      "   KMP_CPUINFO_FILE: value is not defined\n",
      "   KMP_DETERMINISTIC_REDUCTION=false\n",
      "   KMP_DEVICE_THREAD_LIMIT=2147483647\n",
      "   KMP_DISP_NUM_BUFFERS=7\n",
      "   KMP_DUPLICATE_LIB_OK=true\n",
      "   KMP_ENABLE_TASK_THROTTLING=true\n",
      "   KMP_FORCE_REDUCTION: value is not defined\n",
      "   KMP_FOREIGN_THREADS_THREADPRIVATE=true\n",
      "   KMP_FORKJOIN_BARRIER='2,2'\n",
      "   KMP_FORKJOIN_BARRIER_PATTERN='hyper,hyper'\n",
      "   KMP_GTID_MODE=3\n",
      "   KMP_HANDLE_SIGNALS=false\n",
      "   KMP_HOT_TEAMS_MAX_LEVEL=1\n",
      "   KMP_HOT_TEAMS_MODE=0\n",
      "   KMP_INIT_AT_FORK=true\n",
      "   KMP_LIBRARY=throughput\n",
      "   KMP_LOCK_KIND=queuing\n",
      "   KMP_MALLOC_POOL_INCR=1M\n",
      "   KMP_NUM_LOCKS_IN_BLOCK=1\n",
      "   KMP_PLAIN_BARRIER='2,2'\n",
      "   KMP_PLAIN_BARRIER_PATTERN='hyper,hyper'\n",
      "   KMP_REDUCTION_BARRIER='1,1'\n",
      "   KMP_REDUCTION_BARRIER_PATTERN='hyper,hyper'\n",
      "   KMP_SCHEDULE='static,balanced;guided,iterative'\n",
      "   KMP_SETTINGS=true\n",
      "   KMP_SPIN_BACKOFF_PARAMS='4096,100'\n",
      "   KMP_STACKOFFSET=64\n",
      "   KMP_STACKPAD=0\n",
      "   KMP_STACKSIZE=8M\n",
      "   KMP_STORAGE_MAP=false\n",
      "   KMP_TASKING=2\n",
      "   KMP_TASKLOOP_MIN_TASKS=0\n",
      "   KMP_TASK_STEALING_CONSTRAINT=1\n",
      "   KMP_TEAMS_THREAD_LIMIT=4\n",
      "   KMP_TOPOLOGY_METHOD=all\n",
      "   KMP_USE_YIELD=1\n",
      "   KMP_VERSION=false\n",
      "   KMP_WARNINGS=false\n",
      "   OMP_AFFINITY_FORMAT='OMP: pid %P tid %i thread %n bound to OS proc set {%A}'\n",
      "   OMP_ALLOCATOR=omp_default_mem_alloc\n",
      "   OMP_CANCELLATION=false\n",
      "   OMP_DEFAULT_DEVICE=0\n",
      "   OMP_DISPLAY_AFFINITY=false\n",
      "   OMP_DISPLAY_ENV=false\n",
      "   OMP_DYNAMIC=false\n",
      "   OMP_MAX_ACTIVE_LEVELS=1\n",
      "   OMP_MAX_TASK_PRIORITY=0\n",
      "   OMP_NESTED: deprecated; max-active-levels-var=1\n",
      "   OMP_NUM_THREADS: value is not defined\n",
      "   OMP_PLACES: value is not defined\n",
      "   OMP_PROC_BIND='intel'\n",
      "   OMP_SCHEDULE='static'\n",
      "   OMP_STACKSIZE=8M\n",
      "   OMP_TARGET_OFFLOAD=DEFAULT\n",
      "   OMP_THREAD_LIMIT=2147483647\n",
      "   OMP_WAIT_POLICY=PASSIVE\n",
      "   KMP_AFFINITY='verbose,warnings,respect,granularity=fine,compact,1,0'\n",
      "\n",
      "2021-12-19 15:47:20.052370: I tensorflow/core/common_runtime/process_util.cc:146] Creating new thread pool with default inter op setting: 2. Tune using inter_op_parallelism_threads for best performance.\n",
      "2021-12-19 15:47:20.231641: I tensorflow/compiler/mlir/mlir_graph_optimization_pass.cc:185] None of the MLIR Optimization Passes are enabled (registered 2)\n"
     ]
    },
    {
     "name": "stdout",
     "output_type": "stream",
     "text": [
      "Epoch 1/100\n",
      "20/20 [==============================] - 1s 2ms/step - loss: 0.6920 - accuracy: 0.5256\n",
      "Epoch 2/100\n",
      "20/20 [==============================] - 0s 2ms/step - loss: 0.6747 - accuracy: 0.6410\n",
      "Epoch 3/100\n",
      "20/20 [==============================] - 0s 2ms/step - loss: 0.6674 - accuracy: 0.6859\n",
      "Epoch 4/100\n",
      "20/20 [==============================] - 0s 2ms/step - loss: 0.6492 - accuracy: 0.6795\n",
      "Epoch 5/100\n",
      "20/20 [==============================] - 0s 2ms/step - loss: 0.6289 - accuracy: 0.7244\n",
      "Epoch 6/100\n",
      "20/20 [==============================] - 0s 2ms/step - loss: 0.6014 - accuracy: 0.7179\n",
      "Epoch 7/100\n",
      "20/20 [==============================] - 0s 2ms/step - loss: 0.5759 - accuracy: 0.7179\n",
      "Epoch 8/100\n",
      "20/20 [==============================] - 0s 2ms/step - loss: 0.5124 - accuracy: 0.8077\n",
      "Epoch 9/100\n",
      "20/20 [==============================] - 0s 2ms/step - loss: 0.4976 - accuracy: 0.7756\n",
      "Epoch 10/100\n",
      "20/20 [==============================] - 0s 2ms/step - loss: 0.4899 - accuracy: 0.7821\n",
      "Epoch 11/100\n",
      "20/20 [==============================] - 0s 2ms/step - loss: 0.4246 - accuracy: 0.8462\n",
      "Epoch 12/100\n",
      "20/20 [==============================] - 0s 2ms/step - loss: 0.4006 - accuracy: 0.8269\n",
      "Epoch 13/100\n",
      "20/20 [==============================] - 0s 2ms/step - loss: 0.4201 - accuracy: 0.8077\n",
      "Epoch 14/100\n",
      "20/20 [==============================] - 0s 2ms/step - loss: 0.3924 - accuracy: 0.8462\n",
      "Epoch 15/100\n",
      "20/20 [==============================] - 0s 2ms/step - loss: 0.3569 - accuracy: 0.8333\n",
      "Epoch 16/100\n",
      "20/20 [==============================] - 0s 2ms/step - loss: 0.3447 - accuracy: 0.8590\n",
      "Epoch 17/100\n",
      "20/20 [==============================] - 0s 2ms/step - loss: 0.3202 - accuracy: 0.8782\n",
      "Epoch 18/100\n",
      "20/20 [==============================] - 0s 2ms/step - loss: 0.3012 - accuracy: 0.8462\n",
      "Epoch 19/100\n",
      "20/20 [==============================] - 0s 2ms/step - loss: 0.2911 - accuracy: 0.8718\n",
      "Epoch 20/100\n",
      "20/20 [==============================] - 0s 2ms/step - loss: 0.2667 - accuracy: 0.9167\n",
      "Epoch 21/100\n",
      "20/20 [==============================] - 0s 2ms/step - loss: 0.2591 - accuracy: 0.9103\n",
      "Epoch 22/100\n",
      "20/20 [==============================] - 0s 2ms/step - loss: 0.2487 - accuracy: 0.9231\n",
      "Epoch 23/100\n",
      "20/20 [==============================] - 0s 2ms/step - loss: 0.2610 - accuracy: 0.9103\n",
      "Epoch 24/100\n",
      "20/20 [==============================] - 0s 2ms/step - loss: 0.2290 - accuracy: 0.9231\n",
      "Epoch 25/100\n",
      "20/20 [==============================] - 0s 2ms/step - loss: 0.2129 - accuracy: 0.9359\n",
      "Epoch 26/100\n",
      "20/20 [==============================] - 0s 2ms/step - loss: 0.2011 - accuracy: 0.9359\n",
      "Epoch 27/100\n",
      "20/20 [==============================] - 0s 2ms/step - loss: 0.2298 - accuracy: 0.9103\n",
      "Epoch 28/100\n",
      "20/20 [==============================] - 0s 2ms/step - loss: 0.1996 - accuracy: 0.9295\n",
      "Epoch 29/100\n",
      "20/20 [==============================] - 0s 2ms/step - loss: 0.1918 - accuracy: 0.9487\n",
      "Epoch 30/100\n",
      "20/20 [==============================] - 0s 2ms/step - loss: 0.1737 - accuracy: 0.9487\n",
      "Epoch 31/100\n",
      "20/20 [==============================] - 0s 2ms/step - loss: 0.1648 - accuracy: 0.9551\n",
      "Epoch 32/100\n",
      "20/20 [==============================] - 0s 3ms/step - loss: 0.1716 - accuracy: 0.9487\n",
      "Epoch 33/100\n",
      "20/20 [==============================] - 0s 4ms/step - loss: 0.1765 - accuracy: 0.9487\n",
      "Epoch 34/100\n",
      "20/20 [==============================] - 0s 2ms/step - loss: 0.1563 - accuracy: 0.9551\n",
      "Epoch 35/100\n",
      "20/20 [==============================] - 0s 5ms/step - loss: 0.1630 - accuracy: 0.9359\n",
      "Epoch 36/100\n",
      "20/20 [==============================] - 0s 3ms/step - loss: 0.1342 - accuracy: 0.9744\n",
      "Epoch 37/100\n",
      "20/20 [==============================] - 0s 4ms/step - loss: 0.1350 - accuracy: 0.9744\n",
      "Epoch 38/100\n",
      "20/20 [==============================] - 0s 5ms/step - loss: 0.1347 - accuracy: 0.9615\n",
      "Epoch 39/100\n",
      "20/20 [==============================] - 0s 2ms/step - loss: 0.1224 - accuracy: 0.9679\n",
      "Epoch 40/100\n",
      "20/20 [==============================] - 0s 3ms/step - loss: 0.1283 - accuracy: 0.9615\n",
      "Epoch 41/100\n",
      "20/20 [==============================] - 0s 3ms/step - loss: 0.1250 - accuracy: 0.9615\n",
      "Epoch 42/100\n",
      "20/20 [==============================] - 0s 3ms/step - loss: 0.1016 - accuracy: 0.9679\n",
      "Epoch 43/100\n",
      "20/20 [==============================] - 0s 2ms/step - loss: 0.0960 - accuracy: 0.9808\n",
      "Epoch 44/100\n",
      "20/20 [==============================] - 0s 2ms/step - loss: 0.0926 - accuracy: 0.9744\n",
      "Epoch 45/100\n",
      "20/20 [==============================] - 0s 3ms/step - loss: 0.0943 - accuracy: 0.9744\n",
      "Epoch 46/100\n",
      "20/20 [==============================] - 0s 2ms/step - loss: 0.0793 - accuracy: 0.9808\n",
      "Epoch 47/100\n",
      "20/20 [==============================] - 0s 2ms/step - loss: 0.0874 - accuracy: 0.9808\n",
      "Epoch 48/100\n",
      "20/20 [==============================] - 0s 2ms/step - loss: 0.0848 - accuracy: 0.9808\n",
      "Epoch 49/100\n",
      "20/20 [==============================] - 0s 2ms/step - loss: 0.0909 - accuracy: 0.9744\n",
      "Epoch 50/100\n",
      "20/20 [==============================] - 0s 2ms/step - loss: 0.0689 - accuracy: 0.9808\n",
      "Epoch 51/100\n",
      "20/20 [==============================] - 0s 2ms/step - loss: 0.0640 - accuracy: 0.9808\n",
      "Epoch 52/100\n",
      "20/20 [==============================] - 0s 2ms/step - loss: 0.0575 - accuracy: 0.9872\n",
      "Epoch 53/100\n",
      "20/20 [==============================] - 0s 2ms/step - loss: 0.0476 - accuracy: 0.9872\n",
      "Epoch 54/100\n",
      "20/20 [==============================] - 0s 2ms/step - loss: 0.0537 - accuracy: 0.9808\n",
      "Epoch 55/100\n",
      "20/20 [==============================] - 0s 2ms/step - loss: 0.0430 - accuracy: 1.0000\n",
      "Epoch 56/100\n",
      "20/20 [==============================] - 0s 2ms/step - loss: 0.0390 - accuracy: 0.9936\n",
      "Epoch 57/100\n",
      "20/20 [==============================] - 0s 2ms/step - loss: 0.0541 - accuracy: 1.0000\n",
      "Epoch 58/100\n",
      "20/20 [==============================] - 0s 2ms/step - loss: 0.0444 - accuracy: 0.9936\n",
      "Epoch 59/100\n",
      "20/20 [==============================] - 0s 2ms/step - loss: 0.0338 - accuracy: 1.0000\n",
      "Epoch 60/100\n",
      "20/20 [==============================] - 0s 2ms/step - loss: 0.0307 - accuracy: 1.0000\n",
      "Epoch 61/100\n",
      "20/20 [==============================] - 0s 2ms/step - loss: 0.0439 - accuracy: 1.0000\n",
      "Epoch 62/100\n",
      "20/20 [==============================] - 0s 2ms/step - loss: 0.0280 - accuracy: 1.0000\n",
      "Epoch 63/100\n",
      "20/20 [==============================] - 0s 2ms/step - loss: 0.0238 - accuracy: 1.0000\n",
      "Epoch 64/100\n",
      "20/20 [==============================] - 0s 2ms/step - loss: 0.0287 - accuracy: 1.0000\n",
      "Epoch 65/100\n",
      "20/20 [==============================] - 0s 2ms/step - loss: 0.0204 - accuracy: 1.0000\n",
      "Epoch 66/100\n",
      "20/20 [==============================] - 0s 2ms/step - loss: 0.0166 - accuracy: 1.0000\n",
      "Epoch 67/100\n",
      "20/20 [==============================] - 0s 2ms/step - loss: 0.0151 - accuracy: 1.0000\n",
      "Epoch 68/100\n",
      "20/20 [==============================] - 0s 2ms/step - loss: 0.0163 - accuracy: 1.0000\n",
      "Epoch 69/100\n",
      "20/20 [==============================] - 0s 2ms/step - loss: 0.0142 - accuracy: 1.0000\n",
      "Epoch 70/100\n",
      "20/20 [==============================] - 0s 2ms/step - loss: 0.0134 - accuracy: 1.0000\n",
      "Epoch 71/100\n",
      "20/20 [==============================] - 0s 2ms/step - loss: 0.0153 - accuracy: 1.0000\n",
      "Epoch 72/100\n",
      "20/20 [==============================] - 0s 2ms/step - loss: 0.0115 - accuracy: 1.0000\n",
      "Epoch 73/100\n",
      "20/20 [==============================] - 0s 2ms/step - loss: 0.0102 - accuracy: 1.0000\n",
      "Epoch 74/100\n",
      "20/20 [==============================] - 0s 2ms/step - loss: 0.0094 - accuracy: 1.0000\n",
      "Epoch 75/100\n",
      "20/20 [==============================] - 0s 2ms/step - loss: 0.0086 - accuracy: 1.0000\n",
      "Epoch 76/100\n",
      "20/20 [==============================] - 0s 2ms/step - loss: 0.0084 - accuracy: 1.0000\n",
      "Epoch 77/100\n",
      "20/20 [==============================] - 0s 2ms/step - loss: 0.0089 - accuracy: 1.0000\n",
      "Epoch 78/100\n",
      "20/20 [==============================] - 0s 2ms/step - loss: 0.0074 - accuracy: 1.0000\n",
      "Epoch 79/100\n",
      "20/20 [==============================] - 0s 2ms/step - loss: 0.0068 - accuracy: 1.0000\n",
      "Epoch 80/100\n",
      "20/20 [==============================] - 0s 2ms/step - loss: 0.0074 - accuracy: 1.0000\n",
      "Epoch 81/100\n",
      "20/20 [==============================] - 0s 2ms/step - loss: 0.0065 - accuracy: 1.0000\n",
      "Epoch 82/100\n",
      "20/20 [==============================] - 0s 2ms/step - loss: 0.0059 - accuracy: 1.0000\n",
      "Epoch 83/100\n",
      "20/20 [==============================] - 0s 2ms/step - loss: 0.0054 - accuracy: 1.0000\n",
      "Epoch 84/100\n",
      "20/20 [==============================] - 0s 2ms/step - loss: 0.0056 - accuracy: 1.0000\n",
      "Epoch 85/100\n",
      "20/20 [==============================] - 0s 2ms/step - loss: 0.0051 - accuracy: 1.0000\n",
      "Epoch 86/100\n",
      "20/20 [==============================] - 0s 2ms/step - loss: 0.0048 - accuracy: 1.0000\n",
      "Epoch 87/100\n",
      "20/20 [==============================] - 0s 2ms/step - loss: 0.0049 - accuracy: 1.0000\n",
      "Epoch 88/100\n",
      "20/20 [==============================] - 0s 2ms/step - loss: 0.0046 - accuracy: 1.0000\n",
      "Epoch 89/100\n",
      "20/20 [==============================] - 0s 2ms/step - loss: 0.0041 - accuracy: 1.0000\n",
      "Epoch 90/100\n",
      "20/20 [==============================] - 0s 2ms/step - loss: 0.0043 - accuracy: 1.0000\n",
      "Epoch 91/100\n",
      "20/20 [==============================] - 0s 2ms/step - loss: 0.0039 - accuracy: 1.0000\n",
      "Epoch 92/100\n",
      "20/20 [==============================] - 0s 2ms/step - loss: 0.0042 - accuracy: 1.0000\n",
      "Epoch 93/100\n",
      "20/20 [==============================] - 0s 2ms/step - loss: 0.0041 - accuracy: 1.0000\n",
      "Epoch 94/100\n",
      "20/20 [==============================] - 0s 2ms/step - loss: 0.0041 - accuracy: 1.0000\n",
      "Epoch 95/100\n",
      "20/20 [==============================] - 0s 2ms/step - loss: 0.0035 - accuracy: 1.0000\n",
      "Epoch 96/100\n",
      "20/20 [==============================] - 0s 2ms/step - loss: 0.0032 - accuracy: 1.0000\n",
      "Epoch 97/100\n",
      "20/20 [==============================] - 0s 2ms/step - loss: 0.0030 - accuracy: 1.0000\n",
      "Epoch 98/100\n",
      "20/20 [==============================] - 0s 2ms/step - loss: 0.0029 - accuracy: 1.0000\n",
      "Epoch 99/100\n",
      "20/20 [==============================] - 0s 2ms/step - loss: 0.0030 - accuracy: 1.0000\n",
      "Epoch 100/100\n",
      "20/20 [==============================] - 0s 2ms/step - loss: 0.0026 - accuracy: 1.0000\n"
     ]
    },
    {
     "data": {
      "text/plain": [
       "<keras.callbacks.History at 0x7effc3139890>"
      ]
     },
     "execution_count": 18,
     "metadata": {},
     "output_type": "execute_result"
    }
   ],
   "source": [
    "model=keras.Sequential([\n",
    "    keras.layers.Dense(60,input_dim=60,activation='relu'),\n",
    "    keras.layers.Dense(30,activation='relu'),\n",
    "    keras.layers.Dense(15,activation='relu'),\n",
    "    keras.layers.Dense(1,activation='sigmoid')\n",
    "    \n",
    "    \n",
    "])\n",
    "\n",
    "model.compile(loss='binary_crossentropy',optimizer='adam',metrics=['accuracy'])\n",
    "model.fit(X_train,y_train,epochs=100,batch_size=8)"
   ]
  },
  {
   "cell_type": "code",
   "execution_count": 19,
   "id": "fbc5c9df",
   "metadata": {
    "execution": {
     "iopub.execute_input": "2021-12-19T15:47:26.234170Z",
     "iopub.status.busy": "2021-12-19T15:47:26.231101Z",
     "iopub.status.idle": "2021-12-19T15:47:26.527079Z",
     "shell.execute_reply": "2021-12-19T15:47:26.526520Z",
     "shell.execute_reply.started": "2021-12-19T15:19:23.339918Z"
    },
    "papermill": {
     "duration": 0.392326,
     "end_time": "2021-12-19T15:47:26.527281",
     "exception": false,
     "start_time": "2021-12-19T15:47:26.134955",
     "status": "completed"
    },
    "tags": []
   },
   "outputs": [
    {
     "name": "stdout",
     "output_type": "stream",
     "text": [
      "2/2 [==============================] - 0s 6ms/step - loss: 1.1517 - accuracy: 0.7500\n"
     ]
    },
    {
     "data": {
      "text/plain": [
       "[1.1516823768615723, 0.75]"
      ]
     },
     "execution_count": 19,
     "metadata": {},
     "output_type": "execute_result"
    }
   ],
   "source": [
    "model.evaluate(X_test,y_test)"
   ]
  },
  {
   "cell_type": "code",
   "execution_count": 20,
   "id": "b3542506",
   "metadata": {
    "execution": {
     "iopub.execute_input": "2021-12-19T15:47:26.719229Z",
     "iopub.status.busy": "2021-12-19T15:47:26.718553Z",
     "iopub.status.idle": "2021-12-19T15:47:26.918010Z",
     "shell.execute_reply": "2021-12-19T15:47:26.918777Z",
     "shell.execute_reply.started": "2021-12-19T15:22:28.612089Z"
    },
    "papermill": {
     "duration": 0.29767,
     "end_time": "2021-12-19T15:47:26.919045",
     "exception": false,
     "start_time": "2021-12-19T15:47:26.621375",
     "status": "completed"
    },
    "tags": []
   },
   "outputs": [
    {
     "name": "stdout",
     "output_type": "stream",
     "text": [
      "[2.1731591e-08 9.9869663e-01 9.7796160e-01 6.2359068e-06 9.9999964e-01\n",
      " 9.9998415e-01 2.9495001e-02 1.0000000e+00 5.1313323e-06 1.0000000e+00]\n",
      "[0. 1. 1. 0. 1. 1. 0. 1. 0. 1.]\n"
     ]
    }
   ],
   "source": [
    "y_pred=model.predict(X_test).reshape(-1)\n",
    "print(y_pred[:10])\n",
    "\n",
    "y_pred=np.round(y_pred)\n",
    "print(y_pred[:10])"
   ]
  },
  {
   "cell_type": "code",
   "execution_count": 21,
   "id": "29797a1d",
   "metadata": {
    "execution": {
     "iopub.execute_input": "2021-12-19T15:47:27.124273Z",
     "iopub.status.busy": "2021-12-19T15:47:27.123590Z",
     "iopub.status.idle": "2021-12-19T15:47:27.131729Z",
     "shell.execute_reply": "2021-12-19T15:47:27.132319Z",
     "shell.execute_reply.started": "2021-12-19T15:22:39.986636Z"
    },
    "papermill": {
     "duration": 0.105804,
     "end_time": "2021-12-19T15:47:27.132490",
     "exception": false,
     "start_time": "2021-12-19T15:47:27.026686",
     "status": "completed"
    },
    "tags": []
   },
   "outputs": [
    {
     "data": {
      "text/html": [
       "<div>\n",
       "<style scoped>\n",
       "    .dataframe tbody tr th:only-of-type {\n",
       "        vertical-align: middle;\n",
       "    }\n",
       "\n",
       "    .dataframe tbody tr th {\n",
       "        vertical-align: top;\n",
       "    }\n",
       "\n",
       "    .dataframe thead th {\n",
       "        text-align: right;\n",
       "    }\n",
       "</style>\n",
       "<table border=\"1\" class=\"dataframe\">\n",
       "  <thead>\n",
       "    <tr style=\"text-align: right;\">\n",
       "      <th></th>\n",
       "      <th>R</th>\n",
       "    </tr>\n",
       "  </thead>\n",
       "  <tbody>\n",
       "    <tr>\n",
       "      <th>186</th>\n",
       "      <td>0</td>\n",
       "    </tr>\n",
       "    <tr>\n",
       "      <th>155</th>\n",
       "      <td>0</td>\n",
       "    </tr>\n",
       "    <tr>\n",
       "      <th>165</th>\n",
       "      <td>0</td>\n",
       "    </tr>\n",
       "    <tr>\n",
       "      <th>200</th>\n",
       "      <td>0</td>\n",
       "    </tr>\n",
       "    <tr>\n",
       "      <th>58</th>\n",
       "      <td>1</td>\n",
       "    </tr>\n",
       "    <tr>\n",
       "      <th>34</th>\n",
       "      <td>1</td>\n",
       "    </tr>\n",
       "    <tr>\n",
       "      <th>151</th>\n",
       "      <td>0</td>\n",
       "    </tr>\n",
       "    <tr>\n",
       "      <th>18</th>\n",
       "      <td>1</td>\n",
       "    </tr>\n",
       "    <tr>\n",
       "      <th>202</th>\n",
       "      <td>0</td>\n",
       "    </tr>\n",
       "    <tr>\n",
       "      <th>62</th>\n",
       "      <td>1</td>\n",
       "    </tr>\n",
       "  </tbody>\n",
       "</table>\n",
       "</div>"
      ],
      "text/plain": [
       "     R\n",
       "186  0\n",
       "155  0\n",
       "165  0\n",
       "200  0\n",
       "58   1\n",
       "34   1\n",
       "151  0\n",
       "18   1\n",
       "202  0\n",
       "62   1"
      ]
     },
     "execution_count": 21,
     "metadata": {},
     "output_type": "execute_result"
    }
   ],
   "source": [
    "y_test[:10]"
   ]
  },
  {
   "cell_type": "code",
   "execution_count": 22,
   "id": "0071ee60",
   "metadata": {
    "execution": {
     "iopub.execute_input": "2021-12-19T15:47:27.323346Z",
     "iopub.status.busy": "2021-12-19T15:47:27.322704Z",
     "iopub.status.idle": "2021-12-19T15:47:27.333039Z",
     "shell.execute_reply": "2021-12-19T15:47:27.332419Z",
     "shell.execute_reply.started": "2021-12-19T15:24:46.968047Z"
    },
    "papermill": {
     "duration": 0.107304,
     "end_time": "2021-12-19T15:47:27.333173",
     "exception": false,
     "start_time": "2021-12-19T15:47:27.225869",
     "status": "completed"
    },
    "tags": []
   },
   "outputs": [
    {
     "name": "stdout",
     "output_type": "stream",
     "text": [
      "              precision    recall  f1-score   support\n",
      "\n",
      "           0       0.71      0.89      0.79        27\n",
      "           1       0.83      0.60      0.70        25\n",
      "\n",
      "    accuracy                           0.75        52\n",
      "   macro avg       0.77      0.74      0.74        52\n",
      "weighted avg       0.77      0.75      0.74        52\n",
      "\n"
     ]
    }
   ],
   "source": [
    "from sklearn.metrics import confusion_matrix,classification_report\n",
    "print(classification_report(y_test,y_pred))"
   ]
  },
  {
   "cell_type": "code",
   "execution_count": 23,
   "id": "50813ebe",
   "metadata": {
    "execution": {
     "iopub.execute_input": "2021-12-19T15:47:27.527195Z",
     "iopub.status.busy": "2021-12-19T15:47:27.526593Z",
     "iopub.status.idle": "2021-12-19T15:47:32.870454Z",
     "shell.execute_reply": "2021-12-19T15:47:32.869858Z",
     "shell.execute_reply.started": "2021-12-19T15:32:31.947140Z"
    },
    "papermill": {
     "duration": 5.442044,
     "end_time": "2021-12-19T15:47:32.870606",
     "exception": false,
     "start_time": "2021-12-19T15:47:27.428562",
     "status": "completed"
    },
    "tags": []
   },
   "outputs": [
    {
     "name": "stdout",
     "output_type": "stream",
     "text": [
      "Epoch 1/100\n",
      "20/20 [==============================] - 1s 2ms/step - loss: 0.7787 - accuracy: 0.5064\n",
      "Epoch 2/100\n",
      "20/20 [==============================] - 0s 2ms/step - loss: 0.7429 - accuracy: 0.4359\n",
      "Epoch 3/100\n",
      "20/20 [==============================] - 0s 2ms/step - loss: 0.6985 - accuracy: 0.5128\n",
      "Epoch 4/100\n",
      "20/20 [==============================] - 0s 2ms/step - loss: 0.7204 - accuracy: 0.4744\n",
      "Epoch 5/100\n",
      "20/20 [==============================] - 0s 2ms/step - loss: 0.7078 - accuracy: 0.5256\n",
      "Epoch 6/100\n",
      "20/20 [==============================] - 0s 2ms/step - loss: 0.7134 - accuracy: 0.4936\n",
      "Epoch 7/100\n",
      "20/20 [==============================] - 0s 2ms/step - loss: 0.6856 - accuracy: 0.5449\n",
      "Epoch 8/100\n",
      "20/20 [==============================] - 0s 2ms/step - loss: 0.7059 - accuracy: 0.4679\n",
      "Epoch 9/100\n",
      "20/20 [==============================] - 0s 2ms/step - loss: 0.6877 - accuracy: 0.5449\n",
      "Epoch 10/100\n",
      "20/20 [==============================] - 0s 2ms/step - loss: 0.6666 - accuracy: 0.6090\n",
      "Epoch 11/100\n",
      "20/20 [==============================] - 0s 2ms/step - loss: 0.6844 - accuracy: 0.5577\n",
      "Epoch 12/100\n",
      "20/20 [==============================] - 0s 2ms/step - loss: 0.6795 - accuracy: 0.5577\n",
      "Epoch 13/100\n",
      "20/20 [==============================] - 0s 2ms/step - loss: 0.6726 - accuracy: 0.5769\n",
      "Epoch 14/100\n",
      "20/20 [==============================] - 0s 2ms/step - loss: 0.6687 - accuracy: 0.5513\n",
      "Epoch 15/100\n",
      "20/20 [==============================] - 0s 2ms/step - loss: 0.6815 - accuracy: 0.5705\n",
      "Epoch 16/100\n",
      "20/20 [==============================] - 0s 2ms/step - loss: 0.6781 - accuracy: 0.5897\n",
      "Epoch 17/100\n",
      "20/20 [==============================] - 0s 2ms/step - loss: 0.6517 - accuracy: 0.6346\n",
      "Epoch 18/100\n",
      "20/20 [==============================] - 0s 2ms/step - loss: 0.6703 - accuracy: 0.6218\n",
      "Epoch 19/100\n",
      "20/20 [==============================] - 0s 2ms/step - loss: 0.6588 - accuracy: 0.5897\n",
      "Epoch 20/100\n",
      "20/20 [==============================] - 0s 2ms/step - loss: 0.6761 - accuracy: 0.5385\n",
      "Epoch 21/100\n",
      "20/20 [==============================] - 0s 2ms/step - loss: 0.6550 - accuracy: 0.6090\n",
      "Epoch 22/100\n",
      "20/20 [==============================] - 0s 2ms/step - loss: 0.6623 - accuracy: 0.6410\n",
      "Epoch 23/100\n",
      "20/20 [==============================] - 0s 2ms/step - loss: 0.6244 - accuracy: 0.6410\n",
      "Epoch 24/100\n",
      "20/20 [==============================] - 0s 2ms/step - loss: 0.6425 - accuracy: 0.6667\n",
      "Epoch 25/100\n",
      "20/20 [==============================] - 0s 2ms/step - loss: 0.6266 - accuracy: 0.6795\n",
      "Epoch 26/100\n",
      "20/20 [==============================] - 0s 2ms/step - loss: 0.6661 - accuracy: 0.5577\n",
      "Epoch 27/100\n",
      "20/20 [==============================] - 0s 2ms/step - loss: 0.6555 - accuracy: 0.6346\n",
      "Epoch 28/100\n",
      "20/20 [==============================] - 0s 2ms/step - loss: 0.6221 - accuracy: 0.6667\n",
      "Epoch 29/100\n",
      "20/20 [==============================] - 0s 2ms/step - loss: 0.6152 - accuracy: 0.6859\n",
      "Epoch 30/100\n",
      "20/20 [==============================] - 0s 2ms/step - loss: 0.6096 - accuracy: 0.6346\n",
      "Epoch 31/100\n",
      "20/20 [==============================] - 0s 2ms/step - loss: 0.6236 - accuracy: 0.6603\n",
      "Epoch 32/100\n",
      "20/20 [==============================] - 0s 2ms/step - loss: 0.6095 - accuracy: 0.6667\n",
      "Epoch 33/100\n",
      "20/20 [==============================] - 0s 2ms/step - loss: 0.6251 - accuracy: 0.6538\n",
      "Epoch 34/100\n",
      "20/20 [==============================] - 0s 2ms/step - loss: 0.5888 - accuracy: 0.6859\n",
      "Epoch 35/100\n",
      "20/20 [==============================] - 0s 2ms/step - loss: 0.6149 - accuracy: 0.7115\n",
      "Epoch 36/100\n",
      "20/20 [==============================] - 0s 2ms/step - loss: 0.5516 - accuracy: 0.7436\n",
      "Epoch 37/100\n",
      "20/20 [==============================] - 0s 2ms/step - loss: 0.5847 - accuracy: 0.6731\n",
      "Epoch 38/100\n",
      "20/20 [==============================] - 0s 2ms/step - loss: 0.5327 - accuracy: 0.7628\n",
      "Epoch 39/100\n",
      "20/20 [==============================] - 0s 2ms/step - loss: 0.5572 - accuracy: 0.7372\n",
      "Epoch 40/100\n",
      "20/20 [==============================] - 0s 2ms/step - loss: 0.5897 - accuracy: 0.7244\n",
      "Epoch 41/100\n",
      "20/20 [==============================] - 0s 2ms/step - loss: 0.5948 - accuracy: 0.7244\n",
      "Epoch 42/100\n",
      "20/20 [==============================] - 0s 2ms/step - loss: 0.5488 - accuracy: 0.7436\n",
      "Epoch 43/100\n",
      "20/20 [==============================] - 0s 2ms/step - loss: 0.5260 - accuracy: 0.7692\n",
      "Epoch 44/100\n",
      "20/20 [==============================] - 0s 2ms/step - loss: 0.4949 - accuracy: 0.7756\n",
      "Epoch 45/100\n",
      "20/20 [==============================] - 0s 2ms/step - loss: 0.5437 - accuracy: 0.7436\n",
      "Epoch 46/100\n",
      "20/20 [==============================] - 0s 2ms/step - loss: 0.4889 - accuracy: 0.7885\n",
      "Epoch 47/100\n",
      "20/20 [==============================] - 0s 2ms/step - loss: 0.5282 - accuracy: 0.7244\n",
      "Epoch 48/100\n",
      "20/20 [==============================] - 0s 2ms/step - loss: 0.5387 - accuracy: 0.7244\n",
      "Epoch 49/100\n",
      "20/20 [==============================] - 0s 2ms/step - loss: 0.5194 - accuracy: 0.7372\n",
      "Epoch 50/100\n",
      "20/20 [==============================] - 0s 2ms/step - loss: 0.5121 - accuracy: 0.7308\n",
      "Epoch 51/100\n",
      "20/20 [==============================] - 0s 2ms/step - loss: 0.5126 - accuracy: 0.7564\n",
      "Epoch 52/100\n",
      "20/20 [==============================] - 0s 2ms/step - loss: 0.5674 - accuracy: 0.6987\n",
      "Epoch 53/100\n",
      "20/20 [==============================] - 0s 2ms/step - loss: 0.5116 - accuracy: 0.7756\n",
      "Epoch 54/100\n",
      "20/20 [==============================] - 0s 2ms/step - loss: 0.4712 - accuracy: 0.7821\n",
      "Epoch 55/100\n",
      "20/20 [==============================] - 0s 2ms/step - loss: 0.4760 - accuracy: 0.7949\n",
      "Epoch 56/100\n",
      "20/20 [==============================] - 0s 2ms/step - loss: 0.5162 - accuracy: 0.8077\n",
      "Epoch 57/100\n",
      "20/20 [==============================] - 0s 2ms/step - loss: 0.5125 - accuracy: 0.7821\n",
      "Epoch 58/100\n",
      "20/20 [==============================] - 0s 2ms/step - loss: 0.4807 - accuracy: 0.7885\n",
      "Epoch 59/100\n",
      "20/20 [==============================] - 0s 2ms/step - loss: 0.4940 - accuracy: 0.7885\n",
      "Epoch 60/100\n",
      "20/20 [==============================] - 0s 2ms/step - loss: 0.4551 - accuracy: 0.7500\n",
      "Epoch 61/100\n",
      "20/20 [==============================] - 0s 2ms/step - loss: 0.4376 - accuracy: 0.8397\n",
      "Epoch 62/100\n",
      "20/20 [==============================] - 0s 2ms/step - loss: 0.4198 - accuracy: 0.8269\n",
      "Epoch 63/100\n",
      "20/20 [==============================] - 0s 2ms/step - loss: 0.4151 - accuracy: 0.8269\n",
      "Epoch 64/100\n",
      "20/20 [==============================] - 0s 2ms/step - loss: 0.4307 - accuracy: 0.7756\n",
      "Epoch 65/100\n",
      "20/20 [==============================] - 0s 2ms/step - loss: 0.4418 - accuracy: 0.8013\n",
      "Epoch 66/100\n",
      "20/20 [==============================] - 0s 2ms/step - loss: 0.4131 - accuracy: 0.7949\n",
      "Epoch 67/100\n",
      "20/20 [==============================] - 0s 2ms/step - loss: 0.4202 - accuracy: 0.8141\n",
      "Epoch 68/100\n",
      "20/20 [==============================] - 0s 2ms/step - loss: 0.4620 - accuracy: 0.8013\n",
      "Epoch 69/100\n",
      "20/20 [==============================] - 0s 2ms/step - loss: 0.4076 - accuracy: 0.8205\n",
      "Epoch 70/100\n",
      "20/20 [==============================] - 0s 2ms/step - loss: 0.4306 - accuracy: 0.8141\n",
      "Epoch 71/100\n",
      "20/20 [==============================] - 0s 2ms/step - loss: 0.4431 - accuracy: 0.7885\n",
      "Epoch 72/100\n",
      "20/20 [==============================] - 0s 2ms/step - loss: 0.4552 - accuracy: 0.8397\n",
      "Epoch 73/100\n",
      "20/20 [==============================] - 0s 2ms/step - loss: 0.3975 - accuracy: 0.8205\n",
      "Epoch 74/100\n",
      "20/20 [==============================] - 0s 2ms/step - loss: 0.4103 - accuracy: 0.8013\n",
      "Epoch 75/100\n",
      "20/20 [==============================] - 0s 2ms/step - loss: 0.4233 - accuracy: 0.8333\n",
      "Epoch 76/100\n",
      "20/20 [==============================] - 0s 2ms/step - loss: 0.3654 - accuracy: 0.8462\n",
      "Epoch 77/100\n",
      "20/20 [==============================] - 0s 2ms/step - loss: 0.4022 - accuracy: 0.8205\n",
      "Epoch 78/100\n",
      "20/20 [==============================] - 0s 2ms/step - loss: 0.3820 - accuracy: 0.8013\n",
      "Epoch 79/100\n",
      "20/20 [==============================] - 0s 3ms/step - loss: 0.3864 - accuracy: 0.8205\n",
      "Epoch 80/100\n",
      "20/20 [==============================] - 0s 4ms/step - loss: 0.3596 - accuracy: 0.8590\n",
      "Epoch 81/100\n",
      "20/20 [==============================] - 0s 2ms/step - loss: 0.3938 - accuracy: 0.8205\n",
      "Epoch 82/100\n",
      "20/20 [==============================] - 0s 2ms/step - loss: 0.3871 - accuracy: 0.8205\n",
      "Epoch 83/100\n",
      "20/20 [==============================] - 0s 2ms/step - loss: 0.3670 - accuracy: 0.8590\n",
      "Epoch 84/100\n",
      "20/20 [==============================] - 0s 2ms/step - loss: 0.4093 - accuracy: 0.8397\n",
      "Epoch 85/100\n",
      "20/20 [==============================] - 0s 2ms/step - loss: 0.3576 - accuracy: 0.8526\n",
      "Epoch 86/100\n",
      "20/20 [==============================] - 0s 2ms/step - loss: 0.3933 - accuracy: 0.8526\n",
      "Epoch 87/100\n",
      "20/20 [==============================] - 0s 2ms/step - loss: 0.3345 - accuracy: 0.8782\n",
      "Epoch 88/100\n",
      "20/20 [==============================] - 0s 2ms/step - loss: 0.4020 - accuracy: 0.8397\n",
      "Epoch 89/100\n",
      "20/20 [==============================] - 0s 2ms/step - loss: 0.3082 - accuracy: 0.9103\n",
      "Epoch 90/100\n",
      "20/20 [==============================] - 0s 2ms/step - loss: 0.3926 - accuracy: 0.8462\n",
      "Epoch 91/100\n",
      "20/20 [==============================] - 0s 2ms/step - loss: 0.3035 - accuracy: 0.8590\n",
      "Epoch 92/100\n",
      "20/20 [==============================] - 0s 2ms/step - loss: 0.3570 - accuracy: 0.8462\n",
      "Epoch 93/100\n",
      "20/20 [==============================] - 0s 2ms/step - loss: 0.3051 - accuracy: 0.8974\n",
      "Epoch 94/100\n",
      "20/20 [==============================] - 0s 2ms/step - loss: 0.3586 - accuracy: 0.8397\n",
      "Epoch 95/100\n",
      "20/20 [==============================] - 0s 2ms/step - loss: 0.2684 - accuracy: 0.8846\n",
      "Epoch 96/100\n",
      "20/20 [==============================] - 0s 2ms/step - loss: 0.3310 - accuracy: 0.8333\n",
      "Epoch 97/100\n",
      "20/20 [==============================] - 0s 2ms/step - loss: 0.3043 - accuracy: 0.8910\n",
      "Epoch 98/100\n",
      "20/20 [==============================] - 0s 2ms/step - loss: 0.2932 - accuracy: 0.8846\n",
      "Epoch 99/100\n",
      "20/20 [==============================] - 0s 2ms/step - loss: 0.3688 - accuracy: 0.8782\n",
      "Epoch 100/100\n",
      "20/20 [==============================] - 0s 2ms/step - loss: 0.3003 - accuracy: 0.8846\n"
     ]
    },
    {
     "data": {
      "text/plain": [
       "<keras.callbacks.History at 0x7effaa578ed0>"
      ]
     },
     "execution_count": 23,
     "metadata": {},
     "output_type": "execute_result"
    }
   ],
   "source": [
    "model=keras.Sequential([\n",
    "    keras.layers.Dense(60,input_dim=60,activation='relu'),\n",
    "    keras.layers.Dropout(0.5),\n",
    "    keras.layers.Dense(30,activation='relu'),\n",
    "    keras.layers.Dropout(0.5),\n",
    "    keras.layers.Dense(15,activation='relu'),\n",
    "    keras.layers.Dropout(0.5),\n",
    "    keras.layers.Dense(1,activation='sigmoid')\n",
    "    \n",
    "    \n",
    "])\n",
    "\n",
    "model.compile(loss='binary_crossentropy',optimizer='adam',metrics=['accuracy'])\n",
    "model.fit(X_train,y_train,epochs=100,batch_size=8)\n"
   ]
  },
  {
   "cell_type": "code",
   "execution_count": 24,
   "id": "d4d812a7",
   "metadata": {
    "execution": {
     "iopub.execute_input": "2021-12-19T15:47:33.191333Z",
     "iopub.status.busy": "2021-12-19T15:47:33.190708Z",
     "iopub.status.idle": "2021-12-19T15:47:33.436106Z",
     "shell.execute_reply": "2021-12-19T15:47:33.436664Z",
     "shell.execute_reply.started": "2021-12-19T15:34:13.146357Z"
    },
    "papermill": {
     "duration": 0.407774,
     "end_time": "2021-12-19T15:47:33.436836",
     "exception": false,
     "start_time": "2021-12-19T15:47:33.029062",
     "status": "completed"
    },
    "tags": []
   },
   "outputs": [
    {
     "name": "stdout",
     "output_type": "stream",
     "text": [
      "2/2 [==============================] - 0s 5ms/step - loss: 0.4387 - accuracy: 0.7692\n"
     ]
    },
    {
     "data": {
      "text/plain": [
       "[0.43873724341392517, 0.7692307829856873]"
      ]
     },
     "execution_count": 24,
     "metadata": {},
     "output_type": "execute_result"
    }
   ],
   "source": [
    "model.evaluate(X_test,y_test)"
   ]
  },
  {
   "cell_type": "code",
   "execution_count": 25,
   "id": "4ddc3e36",
   "metadata": {
    "execution": {
     "iopub.execute_input": "2021-12-19T15:47:33.757822Z",
     "iopub.status.busy": "2021-12-19T15:47:33.757134Z",
     "iopub.status.idle": "2021-12-19T15:47:33.907971Z",
     "shell.execute_reply": "2021-12-19T15:47:33.908522Z",
     "shell.execute_reply.started": "2021-12-19T15:42:42.487296Z"
    },
    "papermill": {
     "duration": 0.313817,
     "end_time": "2021-12-19T15:47:33.908722",
     "exception": false,
     "start_time": "2021-12-19T15:47:33.594905",
     "status": "completed"
    },
    "tags": []
   },
   "outputs": [
    {
     "name": "stdout",
     "output_type": "stream",
     "text": [
      "              precision    recall  f1-score   support\n",
      "\n",
      "           0       0.71      0.93      0.81        27\n",
      "           1       0.88      0.60      0.71        25\n",
      "\n",
      "    accuracy                           0.77        52\n",
      "   macro avg       0.80      0.76      0.76        52\n",
      "weighted avg       0.80      0.77      0.76        52\n",
      "\n"
     ]
    }
   ],
   "source": [
    "y_pred=model.predict(X_test).reshape(-1)\n",
    "y_pred=np.round(y_pred)\n",
    "from sklearn.metrics import confusion_matrix,classification_report\n",
    "\n",
    "print(classification_report(y_test,y_pred))"
   ]
  },
  {
   "cell_type": "code",
   "execution_count": 26,
   "id": "d689e773",
   "metadata": {
    "execution": {
     "iopub.execute_input": "2021-12-19T15:47:34.231722Z",
     "iopub.status.busy": "2021-12-19T15:47:34.230714Z",
     "iopub.status.idle": "2021-12-19T15:47:34.238602Z",
     "shell.execute_reply": "2021-12-19T15:47:34.239067Z",
     "shell.execute_reply.started": "2021-12-19T15:44:29.707248Z"
    },
    "papermill": {
     "duration": 0.173348,
     "end_time": "2021-12-19T15:47:34.239285",
     "exception": false,
     "start_time": "2021-12-19T15:47:34.065937",
     "status": "completed"
    },
    "tags": []
   },
   "outputs": [
    {
     "name": "stdout",
     "output_type": "stream",
     "text": [
      "              precision    recall  f1-score   support\n",
      "\n",
      "           0       0.71      0.93      0.81        27\n",
      "           1       0.88      0.60      0.71        25\n",
      "\n",
      "    accuracy                           0.77        52\n",
      "   macro avg       0.80      0.76      0.76        52\n",
      "weighted avg       0.80      0.77      0.76        52\n",
      "\n"
     ]
    }
   ],
   "source": [
    "from sklearn.metrics import confusion_matrix,classification_report\n",
    "print(classification_report(y_test,y_pred))"
   ]
  },
  {
   "cell_type": "code",
   "execution_count": null,
   "id": "2b49cd8a",
   "metadata": {
    "papermill": {
     "duration": 0.159422,
     "end_time": "2021-12-19T15:47:34.556828",
     "exception": false,
     "start_time": "2021-12-19T15:47:34.397406",
     "status": "completed"
    },
    "tags": []
   },
   "outputs": [],
   "source": []
  }
 ],
 "metadata": {
  "kernelspec": {
   "display_name": "Python 3",
   "language": "python",
   "name": "python3"
  },
  "language_info": {
   "codemirror_mode": {
    "name": "ipython",
    "version": 3
   },
   "file_extension": ".py",
   "mimetype": "text/x-python",
   "name": "python",
   "nbconvert_exporter": "python",
   "pygments_lexer": "ipython3",
   "version": "3.7.12"
  },
  "papermill": {
   "default_parameters": {},
   "duration": 36.815324,
   "end_time": "2021-12-19T15:47:37.536897",
   "environment_variables": {},
   "exception": null,
   "input_path": "__notebook__.ipynb",
   "output_path": "__notebook__.ipynb",
   "parameters": {},
   "start_time": "2021-12-19T15:47:00.721573",
   "version": "2.3.3"
  }
 },
 "nbformat": 4,
 "nbformat_minor": 5
}
